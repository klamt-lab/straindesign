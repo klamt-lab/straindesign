{
 "cells": [
  {
   "cell_type": "markdown",
   "metadata": {},
   "source": [
    "# Tailoring metabolic networks (future release)"
   ]
  },
  {
   "cell_type": "code",
   "execution_count": 2,
   "metadata": {},
   "outputs": [
    {
     "data": {
      "text/latex": [
       "$\\displaystyle 1.0 BIOMASS_{KT TEMP} - 1.0 BIOMASS_{KT TEMP reverse d18f7}$"
      ],
      "text/plain": [
       "1.0*BIOMASS_KT_TEMP - 1.0*BIOMASS_KT_TEMP_reverse_d18f7"
      ]
     },
     "execution_count": 2,
     "metadata": {},
     "output_type": "execute_result"
    }
   ],
   "source": [
    "ijn.objective.expression"
   ]
  },
  {
   "cell_type": "code",
   "execution_count": 10,
   "metadata": {},
   "outputs": [
    {
     "data": {
      "text/plain": [
       "[<Reaction 3OAR141 at 0x763ca5ba30d0>,\n",
       " <Reaction EX_glyald_e at 0x763ca5ba3490>,\n",
       " <Reaction 3OAR160 at 0x763ca5ba3a90>,\n",
       " <Reaction 3OAR161 at 0x763ca5ba36d0>,\n",
       " <Reaction 3OAR180 at 0x763ca5ba3fd0>,\n",
       " <Reaction 3OAR181 at 0x763ca5ba3520>,\n",
       " <Reaction ACS at 0x763ca5a00280>,\n",
       " <Reaction ACt2rpp at 0x763ca5a00160>,\n",
       " <Reaction 3OAR40 at 0x763ca5a01150>,\n",
       " <Reaction EX_cit_e at 0x763ca5a01180>,\n",
       " <Reaction EX_co2_e at 0x763ca5ba3cd0>,\n",
       " <Reaction 3OAR60 at 0x763ca5ba3700>,\n",
       " <Reaction 3OAR80 at 0x763ca5ba3910>,\n",
       " <Reaction 3OAS100 at 0x763ca5a02020>,\n",
       " <Reaction 3OAS120 at 0x763ca5a01ba0>,\n",
       " <Reaction 3OAS121 at 0x763ca5a02920>,\n",
       " <Reaction ACtex at 0x763ca5a02c80>,\n",
       " <Reaction 3OAS140 at 0x763ca5ba3ee0>,\n",
       " <Reaction ADA at 0x763ca5a02620>]"
      ]
     },
     "execution_count": 10,
     "metadata": {},
     "output_type": "execute_result"
    }
   ],
   "source": [
    "blocked_reactions = [reac for reac in ijn.reactions][1:20]\n",
    "blocked_reactions"
   ]
  },
  {
   "cell_type": "code",
   "execution_count": 6,
   "metadata": {},
   "outputs": [],
   "source": [
    "ijn.remove_reactions([ijn.reactions[4]])"
   ]
  },
  {
   "cell_type": "code",
   "execution_count": 7,
   "metadata": {},
   "outputs": [
    {
     "data": {
      "image/png": "[encoded data removed]",
      "text/plain": [
       "<Figure size 640x480 with 1 Axes>"
      ]
     },
     "metadata": {},
     "output_type": "display_data"
    },
    {
     "name": "stderr",
     "output_type": "stream",
     "text": [
      "INFO:root:Preparing strain design computation.\n",
      "INFO:root:  Using random seed 47927\n",
      "INFO:root:  Using cplex for solving LPs during preprocessing.\n",
      "WARNING:root:  Removing reaction bounds when larger than the cobra-threshold of 1000.\n",
      "INFO:root:  FVA to identify blocked reactions and irreversibilities.\n",
      "INFO:root:  FVA(s) to identify essential reactions.\n",
      "INFO:root:Preprocessing GPR rules (739 genes, 808 gpr rules).\n",
      "INFO:root:  Simplifyied to 539 genes and 517 gpr rules.\n",
      "INFO:root:  Extending metabolic network with gpr associations.\n",
      "WARNING:cobra.core.model:Ignoring reaction 'purU' since it already exists.\n",
      "/home/pschneider/miniconda3/envs/cnapy-1.2.4/lib/python3.10/site-packages/cobra/core/reaction.py:1567: UserWarning: no model found\n",
      "  warn(\"no model found\")\n",
      "WARNING:root:Failed to process GPR rule for reaction FTHFD: 'NoneType' object has no attribute 'metabolites'\n",
      "WARNING:cobra.core.model:Ignoring reaction 'gcvH' since it already exists.\n",
      "WARNING:root:Failed to process GPR rule for reaction GLYCL: 'NoneType' object has no attribute 'metabolites'\n",
      "INFO:root:Compressing Network (1926 reactions).\n",
      "INFO:root:  Removing blocked reactions.\n",
      "INFO:root:  Translating stoichiometric coefficients to rationals.\n",
      "INFO:root:  Removing conservation relations.\n",
      "INFO:root:  Compression 1: Applying compression from EFM-tool module.\n",
      "INFO:root:  Reduced to 743 reactions.\n",
      "INFO:root:  Compression 2: Lumping parallel reactions.\n",
      "INFO:root:  Reduced to 696 reactions.\n",
      "INFO:root:  Compression 3: Applying compression from EFM-tool module.\n",
      "INFO:root:  Reduced to 659 reactions.\n",
      "INFO:root:  Compression 4: Lumping parallel reactions.\n",
      "INFO:root:  Last step could not reduce size further (659 reactions).\n",
      "INFO:root:  Network compression completed. (3 compression iterations)\n",
      "INFO:root:  Translating stoichiometric coefficients back to float.\n",
      "INFO:root:  FVA(s) in compressed model to identify essential reactions.\n",
      "INFO:root:Finished preprocessing:\n",
      "INFO:root:  Model size: 659 reactions, 353 metabolites\n",
      "INFO:root:  57 targetable reactions\n",
      "WARNING:root:  Removing reaction bounds when larger than the cobra-threshold of 1000.\n",
      "INFO:root:Constructing strain design MILP for solver: cplex.\n",
      "INFO:root:  Bounding MILP.\n",
      "INFO:root:Finding (also non-optimal) strain designs ...\n",
      "INFO:root:Searching in full search space.\n",
      "INFO:root:Finished solving strain design MILP.\n",
      "INFO:root: No solutions exist.\n",
      "INFO:root:  Decompressing.\n",
      "INFO:root:  Preparing (reaction-)phenotype prediction of gene intervention strategies.\n",
      "INFO:root:0 solutions found.\n"
     ]
    },
    {
     "ename": "IndexError",
     "evalue": "list index out of range",
     "output_type": "error",
     "traceback": [
      "\u001b[0;31m---------------------------------------------------------------------------\u001b[0m",
      "\u001b[0;31mIndexError\u001b[0m                                Traceback (most recent call last)",
      "Cell \u001b[0;32mIn[7], line 62\u001b[0m\n\u001b[1;32m     54\u001b[0m sols \u001b[38;5;241m=\u001b[39m sd\u001b[38;5;241m.\u001b[39mcompute_strain_designs(ijn,\n\u001b[1;32m     55\u001b[0m                                  sd_modules \u001b[38;5;241m=\u001b[39m [module_suppress, module_protect],\n\u001b[1;32m     56\u001b[0m                                  max_solutions \u001b[38;5;241m=\u001b[39m \u001b[38;5;241m1\u001b[39m,\n\u001b[0;32m   (...)\u001b[0m\n\u001b[1;32m     59\u001b[0m                                  gko_cost \u001b[38;5;241m=\u001b[39m gko_cost,\n\u001b[1;32m     60\u001b[0m                                  solution_approach \u001b[38;5;241m=\u001b[39m sd\u001b[38;5;241m.\u001b[39mANY)\n\u001b[1;32m     61\u001b[0m \u001b[38;5;66;03m# Print solutions\u001b[39;00m\n\u001b[0;32m---> 62\u001b[0m \u001b[38;5;28mprint\u001b[39m(\u001b[38;5;124mf\u001b[39m\u001b[38;5;124m\"\u001b[39m\u001b[38;5;124mOne compressed solution with cost \u001b[39m\u001b[38;5;132;01m{\u001b[39;00m\u001b[43msols\u001b[49m\u001b[38;5;241;43m.\u001b[39;49m\u001b[43msd_cost\u001b[49m\u001b[43m[\u001b[49m\u001b[38;5;241;43m0\u001b[39;49m\u001b[43m]\u001b[49m\u001b[38;5;132;01m}\u001b[39;00m\u001b[38;5;124m found and \u001b[39m\u001b[38;5;124m\"\u001b[39m\u001b[38;5;241m+\u001b[39m\\\n\u001b[1;32m     63\u001b[0m       \u001b[38;5;124mf\u001b[39m\u001b[38;5;124m\"\u001b[39m\u001b[38;5;124mexpanded to \u001b[39m\u001b[38;5;132;01m{\u001b[39;00m\u001b[38;5;28mlen\u001b[39m(sols\u001b[38;5;241m.\u001b[39mreaction_sd)\u001b[38;5;132;01m}\u001b[39;00m\u001b[38;5;124m solutions in the uncompressed netork.\u001b[39m\u001b[38;5;124m\"\u001b[39m)\n\u001b[1;32m     64\u001b[0m \u001b[38;5;28mprint\u001b[39m(\u001b[38;5;124mf\u001b[39m\u001b[38;5;124m\"\u001b[39m\u001b[38;5;124mExample intervention set: \u001b[39m\u001b[38;5;132;01m{\u001b[39;00m[\u001b[38;5;124m'\u001b[39m\u001b[38;5;124m+\u001b[39m\u001b[38;5;124m'\u001b[39m\u001b[38;5;241m+\u001b[39ms\u001b[38;5;250m \u001b[39m\u001b[38;5;28;01mif\u001b[39;00m\u001b[38;5;250m \u001b[39mv\u001b[38;5;241m>\u001b[39m\u001b[38;5;241m0\u001b[39m\u001b[38;5;250m \u001b[39m\u001b[38;5;28;01melse\u001b[39;00m\u001b[38;5;250m \u001b[39m\u001b[38;5;124m'\u001b[39m\u001b[38;5;124m-\u001b[39m\u001b[38;5;124m'\u001b[39m\u001b[38;5;241m+\u001b[39ms\u001b[38;5;250m \u001b[39m\u001b[38;5;28;01mfor\u001b[39;00m\u001b[38;5;250m \u001b[39ms,v\u001b[38;5;250m \u001b[39m\u001b[38;5;129;01min\u001b[39;00m\u001b[38;5;250m \u001b[39msols\u001b[38;5;241m.\u001b[39mgene_sd[\u001b[38;5;241m0\u001b[39m]\u001b[38;5;241m.\u001b[39mitems()\u001b[38;5;250m \u001b[39m\u001b[38;5;28;01mif\u001b[39;00m\u001b[38;5;250m \u001b[39mv\u001b[38;5;241m!=\u001b[39m\u001b[38;5;241m0\u001b[39m]\u001b[38;5;132;01m}\u001b[39;00m\u001b[38;5;124m\"\u001b[39m)\n\u001b[1;32m     67\u001b[0m \u001b[38;5;28;01mimport\u001b[39;00m\u001b[38;5;250m \u001b[39m\u001b[38;5;21;01mmatplotlib\u001b[39;00m\u001b[38;5;21;01m.\u001b[39;00m\u001b[38;5;21;01mpyplot\u001b[39;00m\u001b[38;5;250m \u001b[39m\u001b[38;5;28;01mas\u001b[39;00m\u001b[38;5;250m \u001b[39m\u001b[38;5;21;01mplt\u001b[39;00m\n",
      "\u001b[0;31mIndexError\u001b[0m: list index out of range"
     ]
    }
   ],
   "source": [
    "import straindesign as sd\n",
    "import cobra\n",
    "\n",
    "cobra.Configuration().solver = 'cplex'\n",
    "ijn = cobra.io.load_model('iJN746') # or  iJN1463\n",
    "\n",
    "# exchange_reacs = [r for r in ijn.reactions if all(s<0 for s in r.metabolites.values())]\n",
    "# # shut all exchange fluxes\n",
    "# for r in exchange_reacs:\n",
    "#     r.upper_bound = 0.0\n",
    "\n",
    "# # shut CO2 uptake\n",
    "# ijn.reactions.EX_co2_e.lower_bound    = 0.0\n",
    "ijn.reactions.BIOMASS_KT_TEMP           = 0.0\n",
    "\n",
    "# # keep main fermentation products open\n",
    "# ijn.reactions.EX_ac_e.upper_bound     = 1000.0\n",
    "# ijn.reactions.EX_co2_e.upper_bound    = 1000.0\n",
    "# ijn.reactions.EX_etoh_e.upper_bound   = 1000.0\n",
    "# ijn.reactions.EX_for_e.upper_bound    = 1000.0\n",
    "# ijn.reactions.EX_h2o2_e.upper_bound   = 1000.0\n",
    "# ijn.reactions.EX_h2o_e.upper_bound    = 1000.0\n",
    "# ijn.reactions.EX_h_e.upper_bound      = 1000.0\n",
    "# ijn.reactions.EX_lac__D_e.upper_bound = 1000.0\n",
    "# ijn.reactions.EX_meoh_e.upper_bound   = 1000.0\n",
    "# ijn.reactions.EX_o2_e.upper_bound     = 1000.0\n",
    "# ijn.reactions.EX_succ_e.upper_bound   = 1000.0\n",
    "# ijn.reactions.EX_tungs_e.upper_bound  = 1000.0\n",
    "\n",
    "# for r in ijn.reactions:\n",
    "#     if 'DM_' in r.id:\n",
    "#         r.upper_bound = 1000.0\n",
    "        \n",
    "atps_genes = [g for g in ijn.reactions.ATPS4rpp.genes]\n",
    "ijn.reactions.ATPS4rpp.gene_reaction_rule = str(atps_genes[0])\n",
    "cobra.manipulation.remove_genes(ijn,atps_genes[1:])\n",
    "atps_genes[0].name = 'atpX'\n",
    "\n",
    "min_lac_yield = 0.2\n",
    "min_growth = 0.05\n",
    "module_suppress = sd.SDModule(ijn,sd.SUPPRESS,constraints=f'EX_lac__D_e + {min_lac_yield} EX_glc__D_e <= 0')\n",
    "module_protect  = sd.SDModule(ijn,sd.PROTECT, constraints=f'BIOMASS_KT_TEMP>={min_growth}')\n",
    "\n",
    "sd.plot_flux_space(ijn, ('BIOMASS_KT_TEMP',('EX_lac__D_e','-EX_glc__D_e')));\n",
    "\n",
    "import logging\n",
    "logging.basicConfig(level=logging.INFO)\n",
    "\n",
    "# allow all gene knockouts except for spontanuos \n",
    "gko_cost = {g.id:1 for g in ijn.genes}    \n",
    "# possible knockout of O2\n",
    "ko_cost = {'EX_o2_e': 1}\n",
    "# Compute strain designs\n",
    "sols = sd.compute_strain_designs(ijn,\n",
    "                                 sd_modules = [module_suppress, module_protect],\n",
    "                                 max_solutions = 1,\n",
    "                                 max_cost = 40,\n",
    "                                 ko_cost = ko_cost,\n",
    "                                 gko_cost = gko_cost,\n",
    "                                 solution_approach = sd.ANY)\n",
    "# Print solutions\n",
    "print(f\"One compressed solution with cost {sols.sd_cost[0]} found and \"+\\\n",
    "      f\"expanded to {len(sols.reaction_sd)} solutions in the uncompressed netork.\")\n",
    "print(f\"Example intervention set: {['+'+s if v>0 else '-'+s for s,v in sols.gene_sd[0].items() if v!=0]}\")\n",
    "\n",
    "\n",
    "import matplotlib.pyplot as plt\n",
    "# Wild-type plot\n",
    "datapoints, triang, plot1 = sd.plot_flux_space(ijn,\n",
    "                                               ('BIOMASS_KT_TEMP',('EX_lac__D_e','-EX_glc__D_e')),\n",
    "                                               show=False);\n",
    "_,          _,      plot2 = sd.plot_flux_space(ijn,\n",
    "                                               ('BIOMASS_KT_TEMP',('EX_lac__D_e','-EX_glc__D_e')),\n",
    "                                               constraints=f'BIOMASS_KT_TEMP>={min_growth}',\n",
    "                                               show=False);\n",
    "plot2.set_facecolor('#70AD47')\n",
    "plot2.set_edgecolor('#70AD47')\n",
    "# pGCP design plot\n",
    "_,          _,      plot3 = sd.plot_flux_space(ijn,\n",
    "                                               ('BIOMASS_KT_TEMP',('EX_lac__D_e','-EX_glc__D_e')),\n",
    "                                               # The sign of the glucose exchange reaction is flipped since \n",
    "                                               # reaction is defined in the direction of secretion.\n",
    "                                               constraints=f'EX_lac__D_e + {min_lac_yield} EX_glc__D_e <= 0',\n",
    "                                               show=False);\n",
    "plot3.set_facecolor('#ED7D31')\n",
    "plot3.set_edgecolor('#ED7D31')\n",
    "# plotting designed strain\n",
    "interventions = [[{s:1.0},'=',0.0] for s,v in sols.reaction_sd[0].items() if v < 1]\n",
    "_,          _,      plot4 = sd.plot_flux_space(ijn,\n",
    "                                               ('BIOMASS_KT_TEMP',('EX_lac__D_e','-EX_glc__D_e')),\n",
    "                                               # The sign of the glucose exchange reaction is flipped since \n",
    "                                               # reaction is defined in the direction of secretion.\n",
    "                                               constraints=interventions,\n",
    "                                               show=False);\n",
    "plot4.set_facecolor('#FFC000')\n",
    "plot4.set_edgecolor('#FFC000')\n",
    "# adjust axes limits and show plot\n",
    "plot4.axes.set_xlim(0, 1.05*max([a[0] for a in datapoints]))\n",
    "plot4.axes.set_ylim(0, 1.05*max([a[1] for a in datapoints]))\n",
    "plt.show()"
   ]
  },
  {
   "cell_type": "markdown",
   "metadata": {},
   "source": [
    "Continued .."
   ]
  },
  {
   "cell_type": "markdown",
   "metadata": {},
   "source": [
    "## Carving"
   ]
  },
  {
   "cell_type": "markdown",
   "metadata": {},
   "source": [
    "## Gap-filling"
   ]
  }
 ],
 "metadata": {
  "kernelspec": {
   "display_name": "cnapy-1.2.4",
   "language": "python",
   "name": "python3"
  },
  "language_info": {
   "codemirror_mode": {
    "name": "ipython",
    "version": 3
   },
   "file_extension": ".py",
   "mimetype": "text/x-python",
   "name": "python",
   "nbconvert_exporter": "python",
   "pygments_lexer": "ipython3",
   "version": "3.10.18"
  },
  "orig_nbformat": 4
 },
 "nbformat": 4,
 "nbformat_minor": 2
}
